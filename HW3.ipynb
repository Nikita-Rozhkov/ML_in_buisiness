{
  "nbformat": 4,
  "nbformat_minor": 0,
  "metadata": {
    "colab": {
      "name": "HW3.ipynb",
      "provenance": []
    },
    "kernelspec": {
      "name": "python3",
      "display_name": "Python 3"
    },
    "language_info": {
      "name": "python"
    }
  },
  "cells": [
    {
      "cell_type": "markdown",
      "metadata": {
        "id": "-KlgJoWOUA7a"
      },
      "source": [
        "#Связь бизнес-показателей и DS-метрик"
      ]
    },
    {
      "cell_type": "markdown",
      "metadata": {
        "id": "ogJTvCNQUKaN"
      },
      "source": [
        "1. обучить несколько разных моделей на наборе данных ССЗ (train_case2.csv): логрег, бустинг, лес и т.д - на ваш выбор 2-3 варианта\n",
        "2. при обучении моделей обязательно использовать кроссвалидацию\n",
        "3. вывести сравнение полученных моделей по основным метрикам классификации: pr/rec/auc/f_score (можно в виде таблицы, где строки - модели, а столбцы - метрики)\n",
        "4. сделать выводы о том, какая модель справилась с задачей лучше других\n",
        "5. (опциональный вопрос) какой график (precision_recall_curve или roc_auc_curve) больше подходит в случае сильного дисбаланса классов? (когда объектов одного из классов намного больше чем другого, например, 1 к 1000).\n",
        "p.s.В вопросе проще разобраться, если вспомнить оси на графике roc auc curve и рассмотреть такой пример:\n",
        "\n",
        "Имеется 100000 объектов, из которых только 100 - класс \"1\" (99900 - класс \"0\", соответственно).\n",
        "Допустим, у нас две модели:\n",
        "\n",
        "первая помечает 100 объектов как класс 1, но TP = 90\n",
        "вторая помечает 1000 объектов как класс 1, но TP такой же - 90\n",
        "Какая модель лучше и почему? И что позволяет легче сделать вывод - roc_auc_curve или precision_recall_curve?"
      ]
    },
    {
      "cell_type": "code",
      "metadata": {
        "id": "NlMd_30VVZ1K"
      },
      "source": [
        "import numpy as np\n",
        "import pandas as pd\n",
        "import matplotlib.pyplot as plt\n",
        "\n",
        "from sklearn.linear_model import LogisticRegression\n",
        "from sklearn.ensemble import RandomForestClassifier\n",
        "from sklearn.model_selection import cross_val_score, train_test_split\n",
        "from scipy.sparse import hstack\n",
        "from sklearn.pipeline import Pipeline, make_pipeline\n",
        "from sklearn.base import BaseEstimator, TransformerMixin\n",
        "from sklearn.pipeline import FeatureUnion\n",
        "from sklearn.preprocessing import StandardScaler\n",
        "import scipy.stats as st\n",
        "from sklearn.metrics import roc_auc_score, log_loss\n",
        "from sklearn.metrics import precision_recall_curve, roc_curve, roc_auc_score, confusion_matrix"
      ],
      "execution_count": 22,
      "outputs": []
    },
    {
      "cell_type": "code",
      "metadata": {
        "colab": {
          "base_uri": "https://localhost:8080/",
          "height": 141
        },
        "id": "5QMiLmhvW_Ve",
        "outputId": "2ce56b31-48bd-48ea-aef1-1a0c8affdd38"
      },
      "source": [
        "df = pd.read_csv('/content/drive/MyDrive/train_case2.csv', ';')\n",
        "df.head(3)"
      ],
      "execution_count": 4,
      "outputs": [
        {
          "output_type": "execute_result",
          "data": {
            "text/html": [
              "<div>\n",
              "<style scoped>\n",
              "    .dataframe tbody tr th:only-of-type {\n",
              "        vertical-align: middle;\n",
              "    }\n",
              "\n",
              "    .dataframe tbody tr th {\n",
              "        vertical-align: top;\n",
              "    }\n",
              "\n",
              "    .dataframe thead th {\n",
              "        text-align: right;\n",
              "    }\n",
              "</style>\n",
              "<table border=\"1\" class=\"dataframe\">\n",
              "  <thead>\n",
              "    <tr style=\"text-align: right;\">\n",
              "      <th></th>\n",
              "      <th>id</th>\n",
              "      <th>age</th>\n",
              "      <th>gender</th>\n",
              "      <th>height</th>\n",
              "      <th>weight</th>\n",
              "      <th>ap_hi</th>\n",
              "      <th>ap_lo</th>\n",
              "      <th>cholesterol</th>\n",
              "      <th>gluc</th>\n",
              "      <th>smoke</th>\n",
              "      <th>alco</th>\n",
              "      <th>active</th>\n",
              "      <th>cardio</th>\n",
              "    </tr>\n",
              "  </thead>\n",
              "  <tbody>\n",
              "    <tr>\n",
              "      <th>0</th>\n",
              "      <td>0</td>\n",
              "      <td>18393</td>\n",
              "      <td>2</td>\n",
              "      <td>168</td>\n",
              "      <td>62.0</td>\n",
              "      <td>110</td>\n",
              "      <td>80</td>\n",
              "      <td>1</td>\n",
              "      <td>1</td>\n",
              "      <td>0</td>\n",
              "      <td>0</td>\n",
              "      <td>1</td>\n",
              "      <td>0</td>\n",
              "    </tr>\n",
              "    <tr>\n",
              "      <th>1</th>\n",
              "      <td>1</td>\n",
              "      <td>20228</td>\n",
              "      <td>1</td>\n",
              "      <td>156</td>\n",
              "      <td>85.0</td>\n",
              "      <td>140</td>\n",
              "      <td>90</td>\n",
              "      <td>3</td>\n",
              "      <td>1</td>\n",
              "      <td>0</td>\n",
              "      <td>0</td>\n",
              "      <td>1</td>\n",
              "      <td>1</td>\n",
              "    </tr>\n",
              "    <tr>\n",
              "      <th>2</th>\n",
              "      <td>2</td>\n",
              "      <td>18857</td>\n",
              "      <td>1</td>\n",
              "      <td>165</td>\n",
              "      <td>64.0</td>\n",
              "      <td>130</td>\n",
              "      <td>70</td>\n",
              "      <td>3</td>\n",
              "      <td>1</td>\n",
              "      <td>0</td>\n",
              "      <td>0</td>\n",
              "      <td>0</td>\n",
              "      <td>1</td>\n",
              "    </tr>\n",
              "  </tbody>\n",
              "</table>\n",
              "</div>"
            ],
            "text/plain": [
              "   id    age  gender  height  weight  ...  gluc  smoke  alco  active  cardio\n",
              "0   0  18393       2     168    62.0  ...     1      0     0       1       0\n",
              "1   1  20228       1     156    85.0  ...     1      0     0       1       1\n",
              "2   2  18857       1     165    64.0  ...     1      0     0       0       1\n",
              "\n",
              "[3 rows x 13 columns]"
            ]
          },
          "metadata": {},
          "execution_count": 4
        }
      ]
    },
    {
      "cell_type": "code",
      "metadata": {
        "id": "KVRLh-Q4YLxo"
      },
      "source": [
        "#разделим данные на train/test\n",
        "X_train, X_test, y_train, y_test = train_test_split(df.drop('cardio', 1), \n",
        "                                                    df['cardio'], \n",
        "                                                    stratify=df['cardio'],\n",
        "                                                    random_state=0)"
      ],
      "execution_count": 5,
      "outputs": []
    },
    {
      "cell_type": "code",
      "metadata": {
        "id": "bt_WAR4oYf6D"
      },
      "source": [
        "class ColumnSelector(BaseEstimator, TransformerMixin):\n",
        "    \"\"\"\n",
        "    Transformer to select a single column from the data frame to perform additional transformations on\n",
        "    \"\"\"\n",
        "    def __init__(self, key):\n",
        "        self.key = key\n",
        "\n",
        "    def fit(self, X, y=None):\n",
        "        return self\n",
        "\n",
        "    def transform(self, X):\n",
        "        return X[self.key]\n",
        "    \n",
        "class NumberSelector(BaseEstimator, TransformerMixin):\n",
        "    \"\"\"\n",
        "    Transformer to select a single column from the data frame to perform additional transformations on\n",
        "    Use on numeric columns in the data\n",
        "    \"\"\"\n",
        "    def __init__(self, key):\n",
        "        self.key = key\n",
        "\n",
        "    def fit(self, X, y=None):\n",
        "        return self\n",
        "\n",
        "    def transform(self, X):\n",
        "        return X[[self.key]]\n",
        "        \n",
        "class OHEEncoder(BaseEstimator, TransformerMixin):\n",
        "    def __init__(self, key):\n",
        "        self.key = key\n",
        "        self.columns = []\n",
        "\n",
        "    def fit(self, X, y=None):\n",
        "        self.columns = [col for col in pd.get_dummies(X, prefix=self.key).columns]\n",
        "        return self\n",
        "\n",
        "    def transform(self, X):\n",
        "        X = pd.get_dummies(X, prefix=self.key)\n",
        "        test_columns = [col for col in X.columns]\n",
        "        for col_ in test_columns:\n",
        "            if col_ not in self.columns:\n",
        "                X[col_] = 0\n",
        "        return X[self.columns]        "
      ],
      "execution_count": 6,
      "outputs": []
    },
    {
      "cell_type": "code",
      "metadata": {
        "id": "4zbVL632Z9ho"
      },
      "source": [
        "continuos_cols = ['age', 'height', 'weight', 'ap_hi', 'ap_lo']\n",
        "cat_cols = ['gender', 'cholesterol']\n",
        "base_cols = ['gluc', 'smoke', 'alco', 'active']\n",
        "\n",
        "continuos_transformers = []\n",
        "cat_transformers = []\n",
        "base_transformers = []\n",
        "\n",
        "for cont_col in continuos_cols:\n",
        "    transfomer =  Pipeline([\n",
        "                ('selector', NumberSelector(key=cont_col)),\n",
        "                ('standard', StandardScaler())\n",
        "            ])\n",
        "    continuos_transformers.append((cont_col, transfomer))\n",
        "    \n",
        "for cat_col in cat_cols:\n",
        "    cat_transformer = Pipeline([\n",
        "                ('selector', ColumnSelector(key=cat_col)),\n",
        "                ('ohe', OHEEncoder(key=cat_col))\n",
        "            ])\n",
        "    cat_transformers.append((cat_col, cat_transformer))\n",
        "    \n",
        "for base_col in base_cols:\n",
        "    base_transformer = Pipeline([\n",
        "                ('selector', NumberSelector(key=base_col))\n",
        "            ])\n",
        "    base_transformers.append((base_col, base_transformer))"
      ],
      "execution_count": 7,
      "outputs": []
    },
    {
      "cell_type": "code",
      "metadata": {
        "id": "kTK4ocbsaDsp"
      },
      "source": [
        "feats = FeatureUnion(continuos_transformers+cat_transformers+base_transformers)"
      ],
      "execution_count": 8,
      "outputs": []
    },
    {
      "cell_type": "code",
      "metadata": {
        "id": "tA8yeedJaF13"
      },
      "source": [
        "# Функция для рассчета доверительного интервала\n",
        "def mean_confidence_interval(data, confidence=0.95):\n",
        "    _, right = st.t.interval(0.95, len(data)-1, loc=np.mean(data), scale=st.sem(data))\n",
        "    deviance = right - np.mean(data)\n",
        "    return np.mean(data), deviance"
      ],
      "execution_count": 9,
      "outputs": []
    },
    {
      "cell_type": "code",
      "metadata": {
        "id": "re-73aP3a7QM"
      },
      "source": [
        "# Функция для проведения кроссвалидации и рассчета доверительного интервала метрики\n",
        "def cross_val_conf_int(model, X_train, y_train, cv=16, scoring='roc_auc'):\n",
        "    cv_scores = cross_val_score(model, X_train, y_train, cv=16, scoring='roc_auc')\n",
        "    cv_score, deviance = mean_confidence_interval(cv_scores)\n",
        "    print('CV score is {}+-{}'.format(cv_score, deviance))"
      ],
      "execution_count": 11,
      "outputs": []
    },
    {
      "cell_type": "code",
      "metadata": {
        "id": "eiH1sc30bLVa"
      },
      "source": [
        "# Конвеер для логистической регрессии\n",
        "logreg_classifier = Pipeline([\n",
        "    ('features',feats),\n",
        "    ('classifier', LogisticRegression(random_state = 42)),\n",
        "])"
      ],
      "execution_count": 12,
      "outputs": []
    },
    {
      "cell_type": "code",
      "metadata": {
        "colab": {
          "base_uri": "https://localhost:8080/"
        },
        "id": "_sbWnmTmbTAa",
        "outputId": "19eb7434-09c8-471c-e696-6cd7abfc6b2f"
      },
      "source": [
        "cross_val_conf_int(logreg_classifier, X_train, y_train, cv=16, scoring='roc_auc')"
      ],
      "execution_count": 13,
      "outputs": [
        {
          "output_type": "stream",
          "name": "stdout",
          "text": [
            "CV score is 0.7825870713544835+-0.004598369745713704\n"
          ]
        }
      ]
    },
    {
      "cell_type": "code",
      "metadata": {
        "id": "cX-h8uGsbrPz"
      },
      "source": [
        "# Конвеер для случайного леса\n",
        "randfor_classifier = Pipeline([\n",
        "    ('features',feats),\n",
        "    ('classifier', RandomForestClassifier(random_state=42,\n",
        "                                         max_depth=8,\n",
        "                                         min_samples_leaf=20,\n",
        "                                         n_estimators=20)),\n",
        "])"
      ],
      "execution_count": 14,
      "outputs": []
    },
    {
      "cell_type": "code",
      "metadata": {
        "colab": {
          "base_uri": "https://localhost:8080/"
        },
        "id": "z1fDhjQSfvyC",
        "outputId": "e64cce96-f40d-406e-d990-bb5ba56bda36"
      },
      "source": [
        "cross_val_conf_int(randfor_classifier, X_train, y_train, cv=16, scoring='roc_auc')"
      ],
      "execution_count": 20,
      "outputs": [
        {
          "output_type": "stream",
          "name": "stdout",
          "text": [
            "CV score is 0.7993347777709795+-0.004306028561452013\n"
          ]
        }
      ]
    },
    {
      "cell_type": "markdown",
      "metadata": {
        "id": "lUbu43JDf7kW"
      },
      "source": [
        "Вывод: при увеличении сложности алгоритма, метрика roc_auc растет"
      ]
    },
    {
      "cell_type": "markdown",
      "metadata": {
        "id": "3KA9ylfRgKGH"
      },
      "source": [
        "Создадим теперь сводную таблицу с метриками"
      ]
    },
    {
      "cell_type": "code",
      "metadata": {
        "id": "fWh1gsxEb8xf"
      },
      "source": [
        "columns = ['roc_auc', 'precision', 'recall', 'f1_score', 'Best Threshold']\n",
        "index = ['logreg', 'random_forest']\n",
        "metrics_table = pd.DataFrame(columns=columns, index=index)"
      ],
      "execution_count": 18,
      "outputs": []
    },
    {
      "cell_type": "code",
      "metadata": {
        "id": "yf4Guu7dfLj9"
      },
      "source": [
        "def find_best_metrics(y_test, y_score, b=1):\n",
        "    \n",
        "    precision, recall, thresholds = precision_recall_curve(y_test, y_score)\n",
        "    fscore = (1+b**2)*(precision[:-10] * recall[:-10]) / (b**2*precision[:-10] + recall[:-10])\n",
        "    roc_auc = roc_auc_score(y_true=y_test, y_score=y_score)\n",
        "    ix = np.argmax(fscore)\n",
        "    return roc_auc, precision[ix], recall[ix], fscore[ix], thresholds[ix]"
      ],
      "execution_count": 23,
      "outputs": []
    },
    {
      "cell_type": "code",
      "metadata": {
        "colab": {
          "base_uri": "https://localhost:8080/",
          "height": 111
        },
        "id": "dBmT2kHwicnP",
        "outputId": "ac0fc64a-9152-4088-9b71-779a8f9506d4"
      },
      "source": [
        "models_dict = {'logreg': logreg_classifier, 'random_forest': randfor_classifier}\n",
        "for key in models_dict:\n",
        "    models_dict[key].fit(X_train, y_train)\n",
        "    y_score = models_dict[key].predict_proba(X_test)[:, 1]\n",
        "    metrics_table.loc[key] = find_best_metrics(y_test, y_score)\n",
        "    \n",
        "metrics_table"
      ],
      "execution_count": 24,
      "outputs": [
        {
          "output_type": "execute_result",
          "data": {
            "text/html": [
              "<div>\n",
              "<style scoped>\n",
              "    .dataframe tbody tr th:only-of-type {\n",
              "        vertical-align: middle;\n",
              "    }\n",
              "\n",
              "    .dataframe tbody tr th {\n",
              "        vertical-align: top;\n",
              "    }\n",
              "\n",
              "    .dataframe thead th {\n",
              "        text-align: right;\n",
              "    }\n",
              "</style>\n",
              "<table border=\"1\" class=\"dataframe\">\n",
              "  <thead>\n",
              "    <tr style=\"text-align: right;\">\n",
              "      <th></th>\n",
              "      <th>roc_auc</th>\n",
              "      <th>precision</th>\n",
              "      <th>recall</th>\n",
              "      <th>f1_score</th>\n",
              "      <th>Best Threshold</th>\n",
              "    </tr>\n",
              "  </thead>\n",
              "  <tbody>\n",
              "    <tr>\n",
              "      <th>logreg</th>\n",
              "      <td>0.784676</td>\n",
              "      <td>0.671638</td>\n",
              "      <td>0.808576</td>\n",
              "      <td>0.733773</td>\n",
              "      <td>0.417384</td>\n",
              "    </tr>\n",
              "    <tr>\n",
              "      <th>random_forest</th>\n",
              "      <td>0.798931</td>\n",
              "      <td>0.682206</td>\n",
              "      <td>0.813265</td>\n",
              "      <td>0.741993</td>\n",
              "      <td>0.392866</td>\n",
              "    </tr>\n",
              "  </tbody>\n",
              "</table>\n",
              "</div>"
            ],
            "text/plain": [
              "                roc_auc precision    recall  f1_score Best Threshold\n",
              "logreg         0.784676  0.671638  0.808576  0.733773       0.417384\n",
              "random_forest  0.798931  0.682206  0.813265  0.741993       0.392866"
            ]
          },
          "metadata": {},
          "execution_count": 24
        }
      ]
    },
    {
      "cell_type": "markdown",
      "metadata": {
        "id": "7taRvWE4mMuH"
      },
      "source": [
        "Вывод: Лучшие метрики у модели случайного леса. Чем сложнее алгоритм, тем более высокие метрики он будет показывать"
      ]
    }
  ]
}