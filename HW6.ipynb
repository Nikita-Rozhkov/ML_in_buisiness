{
  "nbformat": 4,
  "nbformat_minor": 0,
  "metadata": {
    "colab": {
      "name": "HW6.ipynb",
      "provenance": []
    },
    "kernelspec": {
      "name": "python3",
      "display_name": "Python 3"
    },
    "language_info": {
      "name": "python"
    }
  },
  "cells": [
    {
      "cell_type": "markdown",
      "metadata": {
        "id": "E5CdBNacFQs4"
      },
      "source": [
        "# **Задача look-alike**"
      ]
    },
    {
      "cell_type": "markdown",
      "metadata": {
        "id": "kCKh-WVAFcgF"
      },
      "source": [
        "\n",
        "\n",
        "1.   взять любой набор данных для бинарной классификации (можно скачать один из модельных с https://archive.ics.uci.edu/ml/datasets.php)\n",
        "2. сделать feature engineering\n",
        "3. обучить любой классификатор (какой вам нравится)\n",
        "4. далее разделить ваш набор данных на два множества: P (positives) и U (unlabeled). Причем брать нужно не все положительные (класс 1) примеры, а только лишь часть\n",
        "5. применить random negative sampling для построения классификатора в новых условиях\n",
        "6. сравнить качество с решением из пункта 4 (построить отчет - таблицу метрик)\n",
        "7. поэкспериментировать с долей P на шаге 5 (как будет меняться качество модели при уменьшении/увеличении размера P)\n"
      ]
    },
    {
      "cell_type": "code",
      "metadata": {
        "colab": {
          "base_uri": "https://localhost:8080/"
        },
        "id": "RLeOZ0-aG9Pk",
        "outputId": "fa2171c1-3220-4472-ac17-5084397815c8"
      },
      "source": [
        "!pip install catboost"
      ],
      "execution_count": 2,
      "outputs": [
        {
          "output_type": "stream",
          "name": "stdout",
          "text": [
            "Collecting catboost\n",
            "  Downloading catboost-1.0.3-cp37-none-manylinux1_x86_64.whl (76.3 MB)\n",
            "\u001b[K     |████████████████████████████████| 76.3 MB 21 kB/s \n",
            "\u001b[?25hRequirement already satisfied: scipy in /usr/local/lib/python3.7/dist-packages (from catboost) (1.4.1)\n",
            "Requirement already satisfied: plotly in /usr/local/lib/python3.7/dist-packages (from catboost) (4.4.1)\n",
            "Requirement already satisfied: pandas>=0.24.0 in /usr/local/lib/python3.7/dist-packages (from catboost) (1.1.5)\n",
            "Requirement already satisfied: graphviz in /usr/local/lib/python3.7/dist-packages (from catboost) (0.10.1)\n",
            "Requirement already satisfied: six in /usr/local/lib/python3.7/dist-packages (from catboost) (1.15.0)\n",
            "Requirement already satisfied: matplotlib in /usr/local/lib/python3.7/dist-packages (from catboost) (3.2.2)\n",
            "Requirement already satisfied: numpy>=1.16.0 in /usr/local/lib/python3.7/dist-packages (from catboost) (1.19.5)\n",
            "Requirement already satisfied: python-dateutil>=2.7.3 in /usr/local/lib/python3.7/dist-packages (from pandas>=0.24.0->catboost) (2.8.2)\n",
            "Requirement already satisfied: pytz>=2017.2 in /usr/local/lib/python3.7/dist-packages (from pandas>=0.24.0->catboost) (2018.9)\n",
            "Requirement already satisfied: cycler>=0.10 in /usr/local/lib/python3.7/dist-packages (from matplotlib->catboost) (0.11.0)\n",
            "Requirement already satisfied: pyparsing!=2.0.4,!=2.1.2,!=2.1.6,>=2.0.1 in /usr/local/lib/python3.7/dist-packages (from matplotlib->catboost) (2.4.7)\n",
            "Requirement already satisfied: kiwisolver>=1.0.1 in /usr/local/lib/python3.7/dist-packages (from matplotlib->catboost) (1.3.2)\n",
            "Requirement already satisfied: retrying>=1.3.3 in /usr/local/lib/python3.7/dist-packages (from plotly->catboost) (1.3.3)\n",
            "Installing collected packages: catboost\n",
            "Successfully installed catboost-1.0.3\n"
          ]
        }
      ]
    },
    {
      "cell_type": "code",
      "metadata": {
        "id": "58Uil4eiG0HN"
      },
      "source": [
        "import pandas as pd\n",
        "import numpy as np\n",
        "from sklearn.model_selection import train_test_split\n",
        "import catboost\n",
        "import matplotlib.pyplot as plt\n",
        "from sklearn.metrics import f1_score, roc_auc_score, precision_score, recall_score, precision_recall_curve\n",
        "%matplotlib inline"
      ],
      "execution_count": 3,
      "outputs": []
    },
    {
      "cell_type": "markdown",
      "metadata": {
        "id": "yamembVmHKwH"
      },
      "source": [
        "Загрузка датасета <br>\n",
        "https://archive.ics.uci.edu/ml/datasets/Adult"
      ]
    },
    {
      "cell_type": "code",
      "metadata": {
        "colab": {
          "base_uri": "https://localhost:8080/",
          "height": 141
        },
        "id": "QaZfXKwXIjzZ",
        "outputId": "d08e4df2-77bc-4bd7-f78b-3895cf57182b"
      },
      "source": [
        "df = pd.read_csv(\"/content/drive/MyDrive/adult.data\", header = None)\n",
        "df.head(3)"
      ],
      "execution_count": 7,
      "outputs": [
        {
          "output_type": "execute_result",
          "data": {
            "text/html": [
              "<div>\n",
              "<style scoped>\n",
              "    .dataframe tbody tr th:only-of-type {\n",
              "        vertical-align: middle;\n",
              "    }\n",
              "\n",
              "    .dataframe tbody tr th {\n",
              "        vertical-align: top;\n",
              "    }\n",
              "\n",
              "    .dataframe thead th {\n",
              "        text-align: right;\n",
              "    }\n",
              "</style>\n",
              "<table border=\"1\" class=\"dataframe\">\n",
              "  <thead>\n",
              "    <tr style=\"text-align: right;\">\n",
              "      <th></th>\n",
              "      <th>0</th>\n",
              "      <th>1</th>\n",
              "      <th>2</th>\n",
              "      <th>3</th>\n",
              "      <th>4</th>\n",
              "      <th>5</th>\n",
              "      <th>6</th>\n",
              "      <th>7</th>\n",
              "      <th>8</th>\n",
              "      <th>9</th>\n",
              "      <th>10</th>\n",
              "      <th>11</th>\n",
              "      <th>12</th>\n",
              "      <th>13</th>\n",
              "      <th>14</th>\n",
              "    </tr>\n",
              "  </thead>\n",
              "  <tbody>\n",
              "    <tr>\n",
              "      <th>0</th>\n",
              "      <td>39</td>\n",
              "      <td>State-gov</td>\n",
              "      <td>77516</td>\n",
              "      <td>Bachelors</td>\n",
              "      <td>13</td>\n",
              "      <td>Never-married</td>\n",
              "      <td>Adm-clerical</td>\n",
              "      <td>Not-in-family</td>\n",
              "      <td>White</td>\n",
              "      <td>Male</td>\n",
              "      <td>2174</td>\n",
              "      <td>0</td>\n",
              "      <td>40</td>\n",
              "      <td>United-States</td>\n",
              "      <td>&lt;=50K</td>\n",
              "    </tr>\n",
              "    <tr>\n",
              "      <th>1</th>\n",
              "      <td>50</td>\n",
              "      <td>Self-emp-not-inc</td>\n",
              "      <td>83311</td>\n",
              "      <td>Bachelors</td>\n",
              "      <td>13</td>\n",
              "      <td>Married-civ-spouse</td>\n",
              "      <td>Exec-managerial</td>\n",
              "      <td>Husband</td>\n",
              "      <td>White</td>\n",
              "      <td>Male</td>\n",
              "      <td>0</td>\n",
              "      <td>0</td>\n",
              "      <td>13</td>\n",
              "      <td>United-States</td>\n",
              "      <td>&lt;=50K</td>\n",
              "    </tr>\n",
              "    <tr>\n",
              "      <th>2</th>\n",
              "      <td>38</td>\n",
              "      <td>Private</td>\n",
              "      <td>215646</td>\n",
              "      <td>HS-grad</td>\n",
              "      <td>9</td>\n",
              "      <td>Divorced</td>\n",
              "      <td>Handlers-cleaners</td>\n",
              "      <td>Not-in-family</td>\n",
              "      <td>White</td>\n",
              "      <td>Male</td>\n",
              "      <td>0</td>\n",
              "      <td>0</td>\n",
              "      <td>40</td>\n",
              "      <td>United-States</td>\n",
              "      <td>&lt;=50K</td>\n",
              "    </tr>\n",
              "  </tbody>\n",
              "</table>\n",
              "</div>"
            ],
            "text/plain": [
              "   0                  1       2           3   ...  11  12              13      14\n",
              "0  39          State-gov   77516   Bachelors  ...   0  40   United-States   <=50K\n",
              "1  50   Self-emp-not-inc   83311   Bachelors  ...   0  13   United-States   <=50K\n",
              "2  38            Private  215646     HS-grad  ...   0  40   United-States   <=50K\n",
              "\n",
              "[3 rows x 15 columns]"
            ]
          },
          "metadata": {},
          "execution_count": 7
        }
      ]
    },
    {
      "cell_type": "markdown",
      "metadata": {
        "id": "WeKxT8poJlQS"
      },
      "source": [
        "Сведения о типах полей и пропусках в датасете"
      ]
    },
    {
      "cell_type": "code",
      "metadata": {
        "colab": {
          "base_uri": "https://localhost:8080/"
        },
        "id": "uBuJYZEgJsJ3",
        "outputId": "e3dc7ad1-ad3f-471e-fd2b-679e56d0e56e"
      },
      "source": [
        "df.info()"
      ],
      "execution_count": 8,
      "outputs": [
        {
          "output_type": "stream",
          "name": "stdout",
          "text": [
            "<class 'pandas.core.frame.DataFrame'>\n",
            "RangeIndex: 32561 entries, 0 to 32560\n",
            "Data columns (total 15 columns):\n",
            " #   Column  Non-Null Count  Dtype \n",
            "---  ------  --------------  ----- \n",
            " 0   0       32561 non-null  int64 \n",
            " 1   1       32561 non-null  object\n",
            " 2   2       32561 non-null  int64 \n",
            " 3   3       32561 non-null  object\n",
            " 4   4       32561 non-null  int64 \n",
            " 5   5       32561 non-null  object\n",
            " 6   6       32561 non-null  object\n",
            " 7   7       32561 non-null  object\n",
            " 8   8       32561 non-null  object\n",
            " 9   9       32561 non-null  object\n",
            " 10  10      32561 non-null  int64 \n",
            " 11  11      32561 non-null  int64 \n",
            " 12  12      32561 non-null  int64 \n",
            " 13  13      32561 non-null  object\n",
            " 14  14      32561 non-null  object\n",
            "dtypes: int64(6), object(9)\n",
            "memory usage: 3.7+ MB\n"
          ]
        }
      ]
    },
    {
      "cell_type": "markdown",
      "metadata": {
        "id": "d9O02SC_MG9m"
      },
      "source": [
        "Привидение целевой переменной к бинарному виду"
      ]
    },
    {
      "cell_type": "code",
      "metadata": {
        "id": "H3esuCZEKRWF"
      },
      "source": [
        "df[14] = df[14].map({' <=50K': 0, ' >50K': 1}) "
      ],
      "execution_count": 9,
      "outputs": []
    },
    {
      "cell_type": "markdown",
      "metadata": {
        "id": "Uotu_oDRN9dW"
      },
      "source": [
        "Дисбаланс классов"
      ]
    },
    {
      "cell_type": "code",
      "metadata": {
        "colab": {
          "base_uri": "https://localhost:8080/"
        },
        "id": "hJJDJ3SjOBP8",
        "outputId": "844da99c-feb5-4210-af5a-e0c98971aa0d"
      },
      "source": [
        "df[14].value_counts()"
      ],
      "execution_count": 10,
      "outputs": [
        {
          "output_type": "execute_result",
          "data": {
            "text/plain": [
              "0    24720\n",
              "1     7841\n",
              "Name: 14, dtype: int64"
            ]
          },
          "metadata": {},
          "execution_count": 10
        }
      ]
    },
    {
      "cell_type": "code",
      "metadata": {
        "id": "ELJczTqmQkE_"
      },
      "source": [
        "disbalance = y_train.value_counts()[0] / y_train.value_counts()[1]"
      ],
      "execution_count": 12,
      "outputs": []
    },
    {
      "cell_type": "markdown",
      "metadata": {
        "id": "VZ1x6s3NOxhg"
      },
      "source": [
        "Разбиение на test и train"
      ]
    },
    {
      "cell_type": "code",
      "metadata": {
        "id": "peRndwKfO67i"
      },
      "source": [
        "X = df.copy()\n",
        "X.drop(columns=14, inplace=True)\n",
        "X_train, X_test, y_train, y_test = train_test_split(X, df[14], test_size=0.3, shuffle=True, stratify=df[14], random_state=42)"
      ],
      "execution_count": 11,
      "outputs": []
    },
    {
      "cell_type": "markdown",
      "metadata": {
        "id": "_NXKto7SQWiY"
      },
      "source": [
        "Обучение модели catboost"
      ]
    },
    {
      "cell_type": "code",
      "metadata": {
        "id": "SPhr_A_fQEU4"
      },
      "source": [
        "cb = catboost.CatBoostClassifier(class_weights = [1, disbalance], silent = True, random_state = 42, cat_features = [1, 3, 5, 6, 7, 8, 9, 13], one_hot_max_size = 42 )\n",
        "cb.fit(X_train, y_train)\n",
        "y_pred_proba = cb.predict_proba(X_test)[:, 1]"
      ],
      "execution_count": 14,
      "outputs": []
    },
    {
      "cell_type": "markdown",
      "metadata": {
        "id": "1Q6fkHrGUYS-"
      },
      "source": [
        "Расчёт метрик"
      ]
    },
    {
      "cell_type": "code",
      "metadata": {
        "colab": {
          "base_uri": "https://localhost:8080/"
        },
        "id": "eeWVNgNPUcXv",
        "outputId": "3a4a05c6-65f1-41d8-9f17-dc9400d24168"
      },
      "source": [
        "precision, recall, thresholds = precision_recall_curve(y_test, y_pred_proba)\n",
        "fscore = (2 * precision[:-10] * recall[:-10]) / (precision[:-10] + recall[:-10])\n",
        "ix = np.argmax(fscore)\n",
        "print('Best Threshold=%f, F-Score=%.3f, Precision=%.3f, Recall=%.3f, ROC_AUC=%.3f' % (thresholds[ix], \n",
        "                                                                                      fscore[ix],\n",
        "                                                                                      precision[ix],\n",
        "                                                                                      recall[ix],\n",
        "                                                                                     roc_auc_score(y_test, y_pred_proba)))"
      ],
      "execution_count": 15,
      "outputs": [
        {
          "output_type": "stream",
          "name": "stdout",
          "text": [
            "Best Threshold=0.653434, F-Score=0.737, Precision=0.713, Recall=0.763, ROC_AUC=0.930\n"
          ]
        }
      ]
    },
    {
      "cell_type": "markdown",
      "metadata": {
        "id": "8jUmSuMfXVSy"
      },
      "source": [
        "**Random Negative Sampling**"
      ]
    },
    {
      "cell_type": "markdown",
      "metadata": {
        "id": "ycnEFiJDXCxf"
      },
      "source": [
        "Разделение набора данных на множество P и U"
      ]
    },
    {
      "cell_type": "code",
      "metadata": {
        "id": "NpclAlfhXi54"
      },
      "source": [
        "np.random.seed(42)\n",
        "X = df.copy()\n",
        "X.drop(columns=14, inplace=True)\n",
        "y_true = df[14]\n",
        "tp_index = np.array(y_true.loc[y_true==1].index)\n",
        "np.random.shuffle(tp_index)"
      ],
      "execution_count": 25,
      "outputs": []
    },
    {
      "cell_type": "code",
      "metadata": {
        "id": "GiN1dppwdSDR"
      },
      "source": [
        "metrics = {\n",
        "    'P_sample_size': [],\n",
        "    'roc_auc': [],\n",
        "    'best_threshold': [],\n",
        "    'precision': [],\n",
        "    'recall': [],\n",
        "    'f1-score': []\n",
        "}"
      ],
      "execution_count": 26,
      "outputs": []
    },
    {
      "cell_type": "code",
      "metadata": {
        "id": "3_-CWMbBXq6K"
      },
      "source": [
        "for i in np.linspace(.1, .9, 9):\n",
        "    p_index = tp_index[:int(i*len(tp_index))]\n",
        "    y_pu = pd.Series([0]*len(y_true))\n",
        "    y_pu.loc[p_index] = 1\n",
        "    u_index = np.array(y_true.loc[~y_true.index.isin(p_index)].index)\n",
        "    np.random.shuffle(u_index)\n",
        "    test_index = u_index[:int(0.3*len(y_true))]\n",
        "    train_index = np.concatenate((u_index[int(0.33*len(y_true)):], p_index))\n",
        "    X_train, X_test = X.loc[train_index], X.loc[test_index]\n",
        "    y_pu_train = y_pu.loc[train_index]\n",
        "    y_true_test = y_true.loc[test_index]\n",
        "\n",
        "    cb = catboost.CatBoostClassifier(class_weights = [1, disbalance], silent = True, random_state = 42, cat_features = [1, 3, 5, 6, 7, 8, 9, 13], one_hot_max_size = 42 )\n",
        "    cb.fit(X_train, y_pu_train)\n",
        "    y_pred_proba = cb.predict_proba(X_test)[:, 1]\n",
        "\n",
        "    precision, recall, thresholds = precision_recall_curve(y_true_test, y_pred_proba)\n",
        "    fscore = (2 * precision[:-10] * recall[:-10]) / (precision[:-10] + recall[:-10])\n",
        "    ix = np.argmax(fscore)\n",
        "\n",
        "    metrics['P_sample_size'].append(i)\n",
        "    metrics['roc_auc'].append(roc_auc_score(y_true_test, y_pred_proba))\n",
        "    metrics['best_threshold'].append(thresholds[ix])\n",
        "    metrics['precision'].append(precision[ix])\n",
        "    metrics['recall'].append(recall[ix])\n",
        "    metrics['f1-score'].append(fscore[ix])\n"
      ],
      "execution_count": 27,
      "outputs": []
    },
    {
      "cell_type": "markdown",
      "metadata": {
        "id": "KmWlD_9nbH2L"
      },
      "source": [
        "Составление таблицы с метриками"
      ]
    },
    {
      "cell_type": "code",
      "metadata": {
        "colab": {
          "base_uri": "https://localhost:8080/",
          "height": 327
        },
        "id": "VLY_hxa8bQOp",
        "outputId": "002e3d5e-2136-4e16-8bf7-83a82e366c30"
      },
      "source": [
        "report = pd.DataFrame(metrics)\n",
        "report"
      ],
      "execution_count": 28,
      "outputs": [
        {
          "output_type": "execute_result",
          "data": {
            "text/html": [
              "<div>\n",
              "<style scoped>\n",
              "    .dataframe tbody tr th:only-of-type {\n",
              "        vertical-align: middle;\n",
              "    }\n",
              "\n",
              "    .dataframe tbody tr th {\n",
              "        vertical-align: top;\n",
              "    }\n",
              "\n",
              "    .dataframe thead th {\n",
              "        text-align: right;\n",
              "    }\n",
              "</style>\n",
              "<table border=\"1\" class=\"dataframe\">\n",
              "  <thead>\n",
              "    <tr style=\"text-align: right;\">\n",
              "      <th></th>\n",
              "      <th>P_sample_size</th>\n",
              "      <th>roc_auc</th>\n",
              "      <th>best_threshold</th>\n",
              "      <th>precision</th>\n",
              "      <th>recall</th>\n",
              "      <th>f1-score</th>\n",
              "    </tr>\n",
              "  </thead>\n",
              "  <tbody>\n",
              "    <tr>\n",
              "      <th>0</th>\n",
              "      <td>0.1</td>\n",
              "      <td>0.873741</td>\n",
              "      <td>0.064676</td>\n",
              "      <td>0.508973</td>\n",
              "      <td>0.798707</td>\n",
              "      <td>0.621743</td>\n",
              "    </tr>\n",
              "    <tr>\n",
              "      <th>1</th>\n",
              "      <td>0.2</td>\n",
              "      <td>0.897890</td>\n",
              "      <td>0.218096</td>\n",
              "      <td>0.588857</td>\n",
              "      <td>0.726908</td>\n",
              "      <td>0.650640</td>\n",
              "    </tr>\n",
              "    <tr>\n",
              "      <th>2</th>\n",
              "      <td>0.3</td>\n",
              "      <td>0.903312</td>\n",
              "      <td>0.324612</td>\n",
              "      <td>0.572072</td>\n",
              "      <td>0.722412</td>\n",
              "      <td>0.638512</td>\n",
              "    </tr>\n",
              "    <tr>\n",
              "      <th>3</th>\n",
              "      <td>0.4</td>\n",
              "      <td>0.920368</td>\n",
              "      <td>0.470245</td>\n",
              "      <td>0.608132</td>\n",
              "      <td>0.678947</td>\n",
              "      <td>0.641592</td>\n",
              "    </tr>\n",
              "    <tr>\n",
              "      <th>4</th>\n",
              "      <td>0.5</td>\n",
              "      <td>0.913977</td>\n",
              "      <td>0.564082</td>\n",
              "      <td>0.587198</td>\n",
              "      <td>0.657164</td>\n",
              "      <td>0.620214</td>\n",
              "    </tr>\n",
              "    <tr>\n",
              "      <th>5</th>\n",
              "      <td>0.6</td>\n",
              "      <td>0.923093</td>\n",
              "      <td>0.656181</td>\n",
              "      <td>0.571652</td>\n",
              "      <td>0.664845</td>\n",
              "      <td>0.614737</td>\n",
              "    </tr>\n",
              "    <tr>\n",
              "      <th>6</th>\n",
              "      <td>0.7</td>\n",
              "      <td>0.916178</td>\n",
              "      <td>0.803675</td>\n",
              "      <td>0.665620</td>\n",
              "      <td>0.508393</td>\n",
              "      <td>0.576479</td>\n",
              "    </tr>\n",
              "    <tr>\n",
              "      <th>7</th>\n",
              "      <td>0.8</td>\n",
              "      <td>0.922565</td>\n",
              "      <td>0.855505</td>\n",
              "      <td>0.594650</td>\n",
              "      <td>0.463884</td>\n",
              "      <td>0.521190</td>\n",
              "    </tr>\n",
              "    <tr>\n",
              "      <th>8</th>\n",
              "      <td>0.9</td>\n",
              "      <td>0.932833</td>\n",
              "      <td>0.902549</td>\n",
              "      <td>0.459854</td>\n",
              "      <td>0.456522</td>\n",
              "      <td>0.458182</td>\n",
              "    </tr>\n",
              "  </tbody>\n",
              "</table>\n",
              "</div>"
            ],
            "text/plain": [
              "   P_sample_size   roc_auc  best_threshold  precision    recall  f1-score\n",
              "0            0.1  0.873741        0.064676   0.508973  0.798707  0.621743\n",
              "1            0.2  0.897890        0.218096   0.588857  0.726908  0.650640\n",
              "2            0.3  0.903312        0.324612   0.572072  0.722412  0.638512\n",
              "3            0.4  0.920368        0.470245   0.608132  0.678947  0.641592\n",
              "4            0.5  0.913977        0.564082   0.587198  0.657164  0.620214\n",
              "5            0.6  0.923093        0.656181   0.571652  0.664845  0.614737\n",
              "6            0.7  0.916178        0.803675   0.665620  0.508393  0.576479\n",
              "7            0.8  0.922565        0.855505   0.594650  0.463884  0.521190\n",
              "8            0.9  0.932833        0.902549   0.459854  0.456522  0.458182"
            ]
          },
          "metadata": {},
          "execution_count": 28
        }
      ]
    }
  ]
}