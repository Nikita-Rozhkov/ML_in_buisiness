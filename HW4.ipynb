{
  "nbformat": 4,
  "nbformat_minor": 0,
  "metadata": {
    "colab": {
      "name": "HW4.ipynb",
      "provenance": []
    },
    "kernelspec": {
      "name": "python3",
      "display_name": "Python 3"
    },
    "language_info": {
      "name": "python"
    }
  },
  "cells": [
    {
      "cell_type": "markdown",
      "metadata": {
        "id": "lR3D8TK5v8Ek"
      },
      "source": [
        "# **Uplift-моделирование**"
      ]
    },
    {
      "cell_type": "markdown",
      "metadata": {
        "id": "ZkJ90-GzwLi9"
      },
      "source": [
        "\n",
        "\n",
        "1.   скачать набор данных маркетинговых кампаний отсюда https://www.kaggle.com/davinwijaya/customer-retention\n",
        "2.   там поле conversion - это целевая переменная, а offer - коммуникация. Переименовать поля (conversion -> target, offer -> treatment) и привести поле treatment к бинарному виду (1 или 0, т.е было какое-то предложение или нет) - значение No Offer означает отсутствие коммуникации, а все остальные - наличие.\n",
        "3.   сделать разбиение набора данных не тренировочную и тестовую выборки\n",
        "4.   сделать feature engineering на ваше усмотрение (допускается свобода выбора методов)\n",
        "5.   провести uplift-моделирование 3 способами: одна модель с признаком коммуникации (S learner), модель с трансформацией таргета (трансформация классов п. 2. 1) и вариант с двумя независимыми моделями\n",
        "6.   в конце вывести единую таблицу сравнения метрик uplift@10%, uplift@20% этих 3 моделей\n",
        "7.   построить модель UpliftTreeClassifier и попытаться описать словами полученное дерево\n",
        "8.   **(опционально)** для модели S learner (модель с дополнительным признаком коммуникации) построить зависимость таргета (конверсии - поле conversion) от значения uplift: 1) сделать прогноз и получить uplift для тестовой выборки 2) отсортировать тестовую выборку по uplift по убыванию 3) разбить на децили (pandas qcut вам в помощь) 4) для каждого дециля посчитать среднюю conversion\n",
        "9.  **(опционально)** построить модель UpliftRandomForestClassifier и попытаться описать словами полученное дерево\n",
        "\n"
      ]
    },
    {
      "cell_type": "code",
      "metadata": {
        "colab": {
          "base_uri": "https://localhost:8080/"
        },
        "id": "MFyS-Ifqz0Yu",
        "outputId": "ad4c849d-f7b9-464e-d2a1-c50b53ed3a36"
      },
      "source": [
        "from google.colab import drive\n",
        "drive.mount('/content/drive')"
      ],
      "execution_count": 2,
      "outputs": [
        {
          "output_type": "stream",
          "name": "stdout",
          "text": [
            "Drive already mounted at /content/drive; to attempt to forcibly remount, call drive.mount(\"/content/drive\", force_remount=True).\n"
          ]
        }
      ]
    },
    {
      "cell_type": "code",
      "metadata": {
        "colab": {
          "base_uri": "https://localhost:8080/"
        },
        "id": "tolXLwKc0YhE",
        "outputId": "df88cf33-c315-4bc0-df46-ef454f7880a1"
      },
      "source": [
        "!pip install scikit-uplift"
      ],
      "execution_count": 4,
      "outputs": [
        {
          "output_type": "stream",
          "name": "stdout",
          "text": [
            "Collecting scikit-uplift\n",
            "  Downloading scikit_uplift-0.4.0-py3-none-any.whl (38 kB)\n",
            "Requirement already satisfied: matplotlib in /usr/local/lib/python3.7/dist-packages (from scikit-uplift) (3.2.2)\n",
            "Requirement already satisfied: requests in /usr/local/lib/python3.7/dist-packages (from scikit-uplift) (2.23.0)\n",
            "Requirement already satisfied: scikit-learn>=0.21.0 in /usr/local/lib/python3.7/dist-packages (from scikit-uplift) (0.22.2.post1)\n",
            "Requirement already satisfied: numpy>=1.16 in /usr/local/lib/python3.7/dist-packages (from scikit-uplift) (1.19.5)\n",
            "Requirement already satisfied: pandas in /usr/local/lib/python3.7/dist-packages (from scikit-uplift) (1.1.5)\n",
            "Requirement already satisfied: tqdm in /usr/local/lib/python3.7/dist-packages (from scikit-uplift) (4.62.3)\n",
            "Requirement already satisfied: scipy>=0.17.0 in /usr/local/lib/python3.7/dist-packages (from scikit-learn>=0.21.0->scikit-uplift) (1.4.1)\n",
            "Requirement already satisfied: joblib>=0.11 in /usr/local/lib/python3.7/dist-packages (from scikit-learn>=0.21.0->scikit-uplift) (1.0.1)\n",
            "Requirement already satisfied: kiwisolver>=1.0.1 in /usr/local/lib/python3.7/dist-packages (from matplotlib->scikit-uplift) (1.3.2)\n",
            "Requirement already satisfied: python-dateutil>=2.1 in /usr/local/lib/python3.7/dist-packages (from matplotlib->scikit-uplift) (2.8.2)\n",
            "Requirement already satisfied: cycler>=0.10 in /usr/local/lib/python3.7/dist-packages (from matplotlib->scikit-uplift) (0.10.0)\n",
            "Requirement already satisfied: pyparsing!=2.0.4,!=2.1.2,!=2.1.6,>=2.0.1 in /usr/local/lib/python3.7/dist-packages (from matplotlib->scikit-uplift) (2.4.7)\n",
            "Requirement already satisfied: six in /usr/local/lib/python3.7/dist-packages (from cycler>=0.10->matplotlib->scikit-uplift) (1.15.0)\n",
            "Requirement already satisfied: pytz>=2017.2 in /usr/local/lib/python3.7/dist-packages (from pandas->scikit-uplift) (2018.9)\n",
            "Requirement already satisfied: idna<3,>=2.5 in /usr/local/lib/python3.7/dist-packages (from requests->scikit-uplift) (2.10)\n",
            "Requirement already satisfied: chardet<4,>=3.0.2 in /usr/local/lib/python3.7/dist-packages (from requests->scikit-uplift) (3.0.4)\n",
            "Requirement already satisfied: certifi>=2017.4.17 in /usr/local/lib/python3.7/dist-packages (from requests->scikit-uplift) (2021.5.30)\n",
            "Requirement already satisfied: urllib3!=1.25.0,!=1.25.1,<1.26,>=1.21.1 in /usr/local/lib/python3.7/dist-packages (from requests->scikit-uplift) (1.24.3)\n",
            "Installing collected packages: scikit-uplift\n",
            "Successfully installed scikit-uplift-0.4.0\n"
          ]
        }
      ]
    },
    {
      "cell_type": "code",
      "metadata": {
        "colab": {
          "base_uri": "https://localhost:8080/"
        },
        "id": "OOrEYfsV1rEJ",
        "outputId": "085e3e4f-7418-48c2-a3cb-c4d92a7b5a74"
      },
      "source": [
        "!pip install catboost"
      ],
      "execution_count": 6,
      "outputs": [
        {
          "output_type": "stream",
          "name": "stdout",
          "text": [
            "Collecting catboost\n",
            "  Downloading catboost-1.0.1-cp37-none-manylinux1_x86_64.whl (76.3 MB)\n",
            "\u001b[K     |████████████████████████████████| 76.3 MB 23 kB/s \n",
            "\u001b[?25hRequirement already satisfied: matplotlib in /usr/local/lib/python3.7/dist-packages (from catboost) (3.2.2)\n",
            "Requirement already satisfied: pandas>=0.24.0 in /usr/local/lib/python3.7/dist-packages (from catboost) (1.1.5)\n",
            "Requirement already satisfied: numpy>=1.16.0 in /usr/local/lib/python3.7/dist-packages (from catboost) (1.19.5)\n",
            "Requirement already satisfied: plotly in /usr/local/lib/python3.7/dist-packages (from catboost) (4.4.1)\n",
            "Requirement already satisfied: scipy in /usr/local/lib/python3.7/dist-packages (from catboost) (1.4.1)\n",
            "Requirement already satisfied: six in /usr/local/lib/python3.7/dist-packages (from catboost) (1.15.0)\n",
            "Requirement already satisfied: graphviz in /usr/local/lib/python3.7/dist-packages (from catboost) (0.10.1)\n",
            "Requirement already satisfied: python-dateutil>=2.7.3 in /usr/local/lib/python3.7/dist-packages (from pandas>=0.24.0->catboost) (2.8.2)\n",
            "Requirement already satisfied: pytz>=2017.2 in /usr/local/lib/python3.7/dist-packages (from pandas>=0.24.0->catboost) (2018.9)\n",
            "Requirement already satisfied: cycler>=0.10 in /usr/local/lib/python3.7/dist-packages (from matplotlib->catboost) (0.10.0)\n",
            "Requirement already satisfied: pyparsing!=2.0.4,!=2.1.2,!=2.1.6,>=2.0.1 in /usr/local/lib/python3.7/dist-packages (from matplotlib->catboost) (2.4.7)\n",
            "Requirement already satisfied: kiwisolver>=1.0.1 in /usr/local/lib/python3.7/dist-packages (from matplotlib->catboost) (1.3.2)\n",
            "Requirement already satisfied: retrying>=1.3.3 in /usr/local/lib/python3.7/dist-packages (from plotly->catboost) (1.3.3)\n",
            "Installing collected packages: catboost\n",
            "Successfully installed catboost-1.0.1\n"
          ]
        }
      ]
    },
    {
      "cell_type": "code",
      "metadata": {
        "id": "AZjbSfiM0S8g"
      },
      "source": [
        "import pandas as pd\n",
        "from sklearn.model_selection import train_test_split\n",
        "from catboost import CatBoostClassifier\n",
        "from sklift.metrics import uplift_at_k\n",
        "from sklift.viz import plot_uplift_preds\n",
        "from sklift.models import SoloModel\n",
        "from sklift.models import ClassTransformation\n",
        "from sklift.models import TwoModels"
      ],
      "execution_count": 8,
      "outputs": []
    },
    {
      "cell_type": "markdown",
      "metadata": {
        "id": "VodMzK8N-onR"
      },
      "source": [
        "### **Подготовка данных**"
      ]
    },
    {
      "cell_type": "markdown",
      "metadata": {
        "id": "qr2PIMXV2hfI"
      },
      "source": [
        "Загрузка данных"
      ]
    },
    {
      "cell_type": "code",
      "metadata": {
        "colab": {
          "base_uri": "https://localhost:8080/",
          "height": 141
        },
        "id": "YI1LR2ll2WSJ",
        "outputId": "935c2a26-1d44-4dcc-a215-14eb0a20cbb9"
      },
      "source": [
        "df = pd.read_csv('/content/drive/MyDrive/data.csv')\n",
        "df.head(3)"
      ],
      "execution_count": 56,
      "outputs": [
        {
          "output_type": "execute_result",
          "data": {
            "text/html": [
              "<div>\n",
              "<style scoped>\n",
              "    .dataframe tbody tr th:only-of-type {\n",
              "        vertical-align: middle;\n",
              "    }\n",
              "\n",
              "    .dataframe tbody tr th {\n",
              "        vertical-align: top;\n",
              "    }\n",
              "\n",
              "    .dataframe thead th {\n",
              "        text-align: right;\n",
              "    }\n",
              "</style>\n",
              "<table border=\"1\" class=\"dataframe\">\n",
              "  <thead>\n",
              "    <tr style=\"text-align: right;\">\n",
              "      <th></th>\n",
              "      <th>recency</th>\n",
              "      <th>history</th>\n",
              "      <th>used_discount</th>\n",
              "      <th>used_bogo</th>\n",
              "      <th>zip_code</th>\n",
              "      <th>is_referral</th>\n",
              "      <th>channel</th>\n",
              "      <th>offer</th>\n",
              "      <th>conversion</th>\n",
              "    </tr>\n",
              "  </thead>\n",
              "  <tbody>\n",
              "    <tr>\n",
              "      <th>0</th>\n",
              "      <td>10</td>\n",
              "      <td>142.44</td>\n",
              "      <td>1</td>\n",
              "      <td>0</td>\n",
              "      <td>Surburban</td>\n",
              "      <td>0</td>\n",
              "      <td>Phone</td>\n",
              "      <td>Buy One Get One</td>\n",
              "      <td>0</td>\n",
              "    </tr>\n",
              "    <tr>\n",
              "      <th>1</th>\n",
              "      <td>6</td>\n",
              "      <td>329.08</td>\n",
              "      <td>1</td>\n",
              "      <td>1</td>\n",
              "      <td>Rural</td>\n",
              "      <td>1</td>\n",
              "      <td>Web</td>\n",
              "      <td>No Offer</td>\n",
              "      <td>0</td>\n",
              "    </tr>\n",
              "    <tr>\n",
              "      <th>2</th>\n",
              "      <td>7</td>\n",
              "      <td>180.65</td>\n",
              "      <td>0</td>\n",
              "      <td>1</td>\n",
              "      <td>Surburban</td>\n",
              "      <td>1</td>\n",
              "      <td>Web</td>\n",
              "      <td>Buy One Get One</td>\n",
              "      <td>0</td>\n",
              "    </tr>\n",
              "  </tbody>\n",
              "</table>\n",
              "</div>"
            ],
            "text/plain": [
              "   recency  history  used_discount  ...  channel            offer  conversion\n",
              "0       10   142.44              1  ...    Phone  Buy One Get One           0\n",
              "1        6   329.08              1  ...      Web         No Offer           0\n",
              "2        7   180.65              0  ...      Web  Buy One Get One           0\n",
              "\n",
              "[3 rows x 9 columns]"
            ]
          },
          "metadata": {},
          "execution_count": 56
        }
      ]
    },
    {
      "cell_type": "markdown",
      "metadata": {
        "id": "4-hKqNwA2nWL"
      },
      "source": [
        "Переименование полей conversion и offer"
      ]
    },
    {
      "cell_type": "code",
      "metadata": {
        "colab": {
          "base_uri": "https://localhost:8080/"
        },
        "id": "gupd6dbe3XVk",
        "outputId": "c0315e7e-2dc9-47f8-f01d-61094bef9fa8"
      },
      "source": [
        "df.rename(columns={'conversion': 'target', 'offer': 'treatment'}, inplace=True)\n",
        "df.columns"
      ],
      "execution_count": 57,
      "outputs": [
        {
          "output_type": "execute_result",
          "data": {
            "text/plain": [
              "Index(['recency', 'history', 'used_discount', 'used_bogo', 'zip_code',\n",
              "       'is_referral', 'channel', 'treatment', 'target'],\n",
              "      dtype='object')"
            ]
          },
          "metadata": {},
          "execution_count": 57
        }
      ]
    },
    {
      "cell_type": "markdown",
      "metadata": {
        "id": "N6TUJsIN4SNY"
      },
      "source": [
        "Привидение поля treatment к бинарному виду"
      ]
    },
    {
      "cell_type": "code",
      "metadata": {
        "id": "rTPJj-y94gPr"
      },
      "source": [
        "df['treatment_temp'] = 1\n",
        "df.loc[df.treatment == 'No Offer', 'treatment_temp'] = 0\n"
      ],
      "execution_count": 58,
      "outputs": []
    },
    {
      "cell_type": "code",
      "metadata": {
        "colab": {
          "base_uri": "https://localhost:8080/",
          "height": 141
        },
        "id": "191loadP6E-f",
        "outputId": "8e29a2a8-9bcf-4aa3-8dc1-667255654f7c"
      },
      "source": [
        "df.drop(columns='treatment', inplace=True)\n",
        "df.rename(columns={'treatment_temp': 'treatment'}, inplace=True)\n",
        "df.head(3)"
      ],
      "execution_count": 59,
      "outputs": [
        {
          "output_type": "execute_result",
          "data": {
            "text/html": [
              "<div>\n",
              "<style scoped>\n",
              "    .dataframe tbody tr th:only-of-type {\n",
              "        vertical-align: middle;\n",
              "    }\n",
              "\n",
              "    .dataframe tbody tr th {\n",
              "        vertical-align: top;\n",
              "    }\n",
              "\n",
              "    .dataframe thead th {\n",
              "        text-align: right;\n",
              "    }\n",
              "</style>\n",
              "<table border=\"1\" class=\"dataframe\">\n",
              "  <thead>\n",
              "    <tr style=\"text-align: right;\">\n",
              "      <th></th>\n",
              "      <th>recency</th>\n",
              "      <th>history</th>\n",
              "      <th>used_discount</th>\n",
              "      <th>used_bogo</th>\n",
              "      <th>zip_code</th>\n",
              "      <th>is_referral</th>\n",
              "      <th>channel</th>\n",
              "      <th>target</th>\n",
              "      <th>treatment</th>\n",
              "    </tr>\n",
              "  </thead>\n",
              "  <tbody>\n",
              "    <tr>\n",
              "      <th>0</th>\n",
              "      <td>10</td>\n",
              "      <td>142.44</td>\n",
              "      <td>1</td>\n",
              "      <td>0</td>\n",
              "      <td>Surburban</td>\n",
              "      <td>0</td>\n",
              "      <td>Phone</td>\n",
              "      <td>0</td>\n",
              "      <td>1</td>\n",
              "    </tr>\n",
              "    <tr>\n",
              "      <th>1</th>\n",
              "      <td>6</td>\n",
              "      <td>329.08</td>\n",
              "      <td>1</td>\n",
              "      <td>1</td>\n",
              "      <td>Rural</td>\n",
              "      <td>1</td>\n",
              "      <td>Web</td>\n",
              "      <td>0</td>\n",
              "      <td>0</td>\n",
              "    </tr>\n",
              "    <tr>\n",
              "      <th>2</th>\n",
              "      <td>7</td>\n",
              "      <td>180.65</td>\n",
              "      <td>0</td>\n",
              "      <td>1</td>\n",
              "      <td>Surburban</td>\n",
              "      <td>1</td>\n",
              "      <td>Web</td>\n",
              "      <td>0</td>\n",
              "      <td>1</td>\n",
              "    </tr>\n",
              "  </tbody>\n",
              "</table>\n",
              "</div>"
            ],
            "text/plain": [
              "   recency  history  used_discount  ...  channel target  treatment\n",
              "0       10   142.44              1  ...    Phone      0          1\n",
              "1        6   329.08              1  ...      Web      0          0\n",
              "2        7   180.65              0  ...      Web      0          1\n",
              "\n",
              "[3 rows x 9 columns]"
            ]
          },
          "metadata": {},
          "execution_count": 59
        }
      ]
    },
    {
      "cell_type": "markdown",
      "metadata": {
        "id": "2Oi9ZnPL7yQr"
      },
      "source": [
        "Проверка типов данных полей"
      ]
    },
    {
      "cell_type": "code",
      "metadata": {
        "colab": {
          "base_uri": "https://localhost:8080/"
        },
        "id": "CyUHNiJJ73D9",
        "outputId": "3ef18e73-e0aa-42a0-b077-3e7c4e701368"
      },
      "source": [
        "df.info()"
      ],
      "execution_count": 60,
      "outputs": [
        {
          "output_type": "stream",
          "name": "stdout",
          "text": [
            "<class 'pandas.core.frame.DataFrame'>\n",
            "RangeIndex: 64000 entries, 0 to 63999\n",
            "Data columns (total 9 columns):\n",
            " #   Column         Non-Null Count  Dtype  \n",
            "---  ------         --------------  -----  \n",
            " 0   recency        64000 non-null  int64  \n",
            " 1   history        64000 non-null  float64\n",
            " 2   used_discount  64000 non-null  int64  \n",
            " 3   used_bogo      64000 non-null  int64  \n",
            " 4   zip_code       64000 non-null  object \n",
            " 5   is_referral    64000 non-null  int64  \n",
            " 6   channel        64000 non-null  object \n",
            " 7   target         64000 non-null  int64  \n",
            " 8   treatment      64000 non-null  int64  \n",
            "dtypes: float64(1), int64(6), object(2)\n",
            "memory usage: 4.4+ MB\n"
          ]
        }
      ]
    },
    {
      "cell_type": "markdown",
      "metadata": {
        "id": "IPEJR11V7_Zz"
      },
      "source": [
        "Выделение категориальных признаков"
      ]
    },
    {
      "cell_type": "code",
      "metadata": {
        "id": "gnfkULCr8Fka"
      },
      "source": [
        "cat_features = ['zip_code', 'channel']"
      ],
      "execution_count": 61,
      "outputs": []
    },
    {
      "cell_type": "markdown",
      "metadata": {
        "id": "v4o61PEU8z2V"
      },
      "source": [
        "Разбиение набора данных на тренировочную и тестовую выборку"
      ]
    },
    {
      "cell_type": "code",
      "metadata": {
        "id": "PNlZcky19Kfk"
      },
      "source": [
        "X_train, X_test, y_train, y_test = train_test_split(df.drop('target', axis=1), df['target'], random_state=123, test_size=0.3)"
      ],
      "execution_count": 62,
      "outputs": []
    },
    {
      "cell_type": "code",
      "metadata": {
        "id": "y5J7X9V-9YRI"
      },
      "source": [
        "treatment_train = X_train.treatment\n",
        "X_train.drop(columns='treatment', inplace=True)\n",
        "treatment_test = X_test.treatment\n",
        "X_test.drop(columns='treatment', inplace=True)"
      ],
      "execution_count": 63,
      "outputs": []
    },
    {
      "cell_type": "markdown",
      "metadata": {
        "id": "dSGAdWN--Wau"
      },
      "source": [
        "### **Одна модель с признаком коммуникации (S learner)**"
      ]
    },
    {
      "cell_type": "code",
      "metadata": {
        "id": "vZUwYmUy-jUH"
      },
      "source": [
        "models_results = {\n",
        "    'model': [],\n",
        "    'uplift@10%': [],\n",
        "    'uplift@20%': []\n",
        "}"
      ],
      "execution_count": 95,
      "outputs": []
    },
    {
      "cell_type": "code",
      "metadata": {
        "id": "t1Uv4cK9_c77"
      },
      "source": [
        "models_results['model'].append('SoloModel')"
      ],
      "execution_count": 96,
      "outputs": []
    },
    {
      "cell_type": "code",
      "metadata": {
        "id": "etkXx27C_O5D"
      },
      "source": [
        "sm = SoloModel(CatBoostClassifier(iterations=20, thread_count=2, random_state=42, silent=True))\n",
        "sm = sm.fit(X_train, y_train, treatment_train, estimator_fit_params={'cat_features': cat_features})"
      ],
      "execution_count": 97,
      "outputs": []
    },
    {
      "cell_type": "code",
      "metadata": {
        "id": "8KGJmQ4N_mbb"
      },
      "source": [
        "uplift_sm = sm.predict(X_test)\n",
        "sm_score = uplift_at_k(y_true=y_test, uplift=uplift_sm, treatment=treatment_test, strategy='by_group', k=0.1)\n",
        "models_results['uplift@10%'].append(sm_score)"
      ],
      "execution_count": 98,
      "outputs": []
    },
    {
      "cell_type": "code",
      "metadata": {
        "id": "xrZBLBuIBnmj"
      },
      "source": [
        "uplift_sm = sm.predict(X_test)\n",
        "sm_score = uplift_at_k(y_true=y_test, uplift=uplift_sm, treatment=treatment_test, strategy='by_group', k=0.2)\n",
        "models_results['uplift@20%'].append(sm_score)"
      ],
      "execution_count": 99,
      "outputs": []
    },
    {
      "cell_type": "markdown",
      "metadata": {
        "id": "n8f-QUqmA-9k"
      },
      "source": [
        "Результаты работы SoloModel"
      ]
    },
    {
      "cell_type": "code",
      "metadata": {
        "colab": {
          "base_uri": "https://localhost:8080/"
        },
        "id": "gqeOp947BHZn",
        "outputId": "747c12c0-dcde-4cd6-9a49-4e872a618dd4"
      },
      "source": [
        "models_results"
      ],
      "execution_count": 101,
      "outputs": [
        {
          "output_type": "execute_result",
          "data": {
            "text/plain": [
              "{'model': ['SoloModel'],\n",
              " 'uplift@10%': [0.08925430023455824],\n",
              " 'uplift@20%': [0.0789944802657288]}"
            ]
          },
          "metadata": {},
          "execution_count": 101
        }
      ]
    },
    {
      "cell_type": "markdown",
      "metadata": {
        "id": "HnQq2d2BEJ_y"
      },
      "source": [
        "### **Модель с трансформацией таргета**"
      ]
    },
    {
      "cell_type": "code",
      "metadata": {
        "id": "srtZ7vBjEe90"
      },
      "source": [
        "models_results['model'].append('ClassTransformation')"
      ],
      "execution_count": 102,
      "outputs": []
    },
    {
      "cell_type": "code",
      "metadata": {
        "id": "pb6tn9WwE4MF"
      },
      "source": [
        "ct = ClassTransformation(CatBoostClassifier(iterations=20, thread_count=2, random_state=42, silent=True))\n",
        "ct = ct.fit(X_train, y_train, treatment_train, estimator_fit_params={'cat_features': cat_features})"
      ],
      "execution_count": 103,
      "outputs": []
    },
    {
      "cell_type": "code",
      "metadata": {
        "id": "-CmOQPuCFSST"
      },
      "source": [
        "uplift_ct = ct.predict(X_test)\n",
        "ct_score = uplift_at_k(y_true=y_test, uplift=uplift_ct, treatment=treatment_test, strategy='by_group', k=0.1)\n",
        "models_results['uplift@10%'].append(ct_score)"
      ],
      "execution_count": 104,
      "outputs": []
    },
    {
      "cell_type": "code",
      "metadata": {
        "id": "hubXlfllFaNU"
      },
      "source": [
        "uplift_ct = ct.predict(X_test)\n",
        "ct_score = uplift_at_k(y_true=y_test, uplift=uplift_ct, treatment=treatment_test, strategy='by_group', k=0.2)\n",
        "models_results['uplift@20%'].append(ct_score)"
      ],
      "execution_count": 105,
      "outputs": []
    },
    {
      "cell_type": "markdown",
      "metadata": {
        "id": "qoCFSLGpGZsX"
      },
      "source": [
        "Результаты работы модели ClassTransformation"
      ]
    },
    {
      "cell_type": "code",
      "metadata": {
        "colab": {
          "base_uri": "https://localhost:8080/"
        },
        "id": "lhV2CUMMFg-D",
        "outputId": "775f9d3b-5187-47c3-d506-d87eff473fca"
      },
      "source": [
        "models_results"
      ],
      "execution_count": 106,
      "outputs": [
        {
          "output_type": "execute_result",
          "data": {
            "text/plain": [
              "{'model': ['SoloModel', 'ClassTransformation'],\n",
              " 'uplift@10%': [0.08925430023455824, 0.1174110633307271],\n",
              " 'uplift@20%': [0.0789944802657288, 0.09579975087924972]}"
            ]
          },
          "metadata": {},
          "execution_count": 106
        }
      ]
    },
    {
      "cell_type": "markdown",
      "metadata": {
        "id": "ivGGuDiRHJ6w"
      },
      "source": [
        "### **Две независимые модели**"
      ]
    },
    {
      "cell_type": "code",
      "metadata": {
        "id": "iqjNx6n4HZef"
      },
      "source": [
        "models_results['model'].append('TwoModels')"
      ],
      "execution_count": 107,
      "outputs": []
    },
    {
      "cell_type": "code",
      "metadata": {
        "id": "YdoB0qFBJBHY"
      },
      "source": [
        "tm = TwoModels(\n",
        "    estimator_trmnt=CatBoostClassifier(iterations=20, thread_count=2, random_state=42, silent=True),\n",
        "    estimator_ctrl=CatBoostClassifier(iterations=20, thread_count=2, random_state=42, silent=True),\n",
        "    method='vanilla'\n",
        ")"
      ],
      "execution_count": 108,
      "outputs": []
    },
    {
      "cell_type": "code",
      "metadata": {
        "id": "IoP0xmfbJOlw"
      },
      "source": [
        "tm = tm.fit(\n",
        "    X_train, y_train, treatment_train,\n",
        "    estimator_trmnt_fit_params={'cat_features': cat_features},\n",
        "    estimator_ctrl_fit_params={'cat_features': cat_features}\n",
        ")"
      ],
      "execution_count": 109,
      "outputs": []
    },
    {
      "cell_type": "code",
      "metadata": {
        "id": "VZ2FUFalJXgf"
      },
      "source": [
        "uplift_tm = tm.predict(X_test)\n",
        "tm_score = uplift_at_k(y_true=y_test, uplift=uplift_tm, treatment=treatment_test, strategy='by_group', k=0.1)\n",
        "models_results['uplift@10%'].append(tm_score)"
      ],
      "execution_count": 110,
      "outputs": []
    },
    {
      "cell_type": "code",
      "metadata": {
        "id": "S8PnuVa4JdjY"
      },
      "source": [
        "uplift_tm = tm.predict(X_test)\n",
        "tm_score = uplift_at_k(y_true=y_test, uplift=uplift_tm, treatment=treatment_test, strategy='by_group', k=0.2)\n",
        "models_results['uplift@20%'].append(tm_score)"
      ],
      "execution_count": 111,
      "outputs": []
    },
    {
      "cell_type": "markdown",
      "metadata": {
        "id": "4ux282MCKpjo"
      },
      "source": [
        "Результаты работы модели TwoModels"
      ]
    },
    {
      "cell_type": "code",
      "metadata": {
        "colab": {
          "base_uri": "https://localhost:8080/"
        },
        "id": "LqjPdv1OJjnq",
        "outputId": "c4539462-bec8-4d97-d651-7989f3aa15db"
      },
      "source": [
        "models_results"
      ],
      "execution_count": 112,
      "outputs": [
        {
          "output_type": "execute_result",
          "data": {
            "text/plain": [
              "{'model': ['SoloModel', 'ClassTransformation', 'TwoModels'],\n",
              " 'uplift@10%': [0.08925430023455824, 0.1174110633307271, 0.07830580531665363],\n",
              " 'uplift@20%': [0.0789944802657288, 0.09579975087924972, 0.06843890435717076]}"
            ]
          },
          "metadata": {},
          "execution_count": 112
        }
      ]
    },
    {
      "cell_type": "markdown",
      "metadata": {
        "id": "xVkQjR_fKz7l"
      },
      "source": [
        "### **Результаты**"
      ]
    },
    {
      "cell_type": "code",
      "metadata": {
        "colab": {
          "base_uri": "https://localhost:8080/",
          "height": 141
        },
        "id": "szTnxyHgK5pY",
        "outputId": "9d17348e-7a3e-4c91-d87e-4a467a7da3f9"
      },
      "source": [
        "results = pd.DataFrame(data=models_results)\n",
        "results"
      ],
      "execution_count": 114,
      "outputs": [
        {
          "output_type": "execute_result",
          "data": {
            "text/html": [
              "<div>\n",
              "<style scoped>\n",
              "    .dataframe tbody tr th:only-of-type {\n",
              "        vertical-align: middle;\n",
              "    }\n",
              "\n",
              "    .dataframe tbody tr th {\n",
              "        vertical-align: top;\n",
              "    }\n",
              "\n",
              "    .dataframe thead th {\n",
              "        text-align: right;\n",
              "    }\n",
              "</style>\n",
              "<table border=\"1\" class=\"dataframe\">\n",
              "  <thead>\n",
              "    <tr style=\"text-align: right;\">\n",
              "      <th></th>\n",
              "      <th>model</th>\n",
              "      <th>uplift@10%</th>\n",
              "      <th>uplift@20%</th>\n",
              "    </tr>\n",
              "  </thead>\n",
              "  <tbody>\n",
              "    <tr>\n",
              "      <th>0</th>\n",
              "      <td>SoloModel</td>\n",
              "      <td>0.089254</td>\n",
              "      <td>0.078994</td>\n",
              "    </tr>\n",
              "    <tr>\n",
              "      <th>1</th>\n",
              "      <td>ClassTransformation</td>\n",
              "      <td>0.117411</td>\n",
              "      <td>0.095800</td>\n",
              "    </tr>\n",
              "    <tr>\n",
              "      <th>2</th>\n",
              "      <td>TwoModels</td>\n",
              "      <td>0.078306</td>\n",
              "      <td>0.068439</td>\n",
              "    </tr>\n",
              "  </tbody>\n",
              "</table>\n",
              "</div>"
            ],
            "text/plain": [
              "                 model  uplift@10%  uplift@20%\n",
              "0            SoloModel    0.089254    0.078994\n",
              "1  ClassTransformation    0.117411    0.095800\n",
              "2            TwoModels    0.078306    0.068439"
            ]
          },
          "metadata": {},
          "execution_count": 114
        }
      ]
    }
  ]
}